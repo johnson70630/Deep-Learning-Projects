{
  "cells": [
    {
      "cell_type": "code",
      "execution_count": null,
      "metadata": {
        "colab": {
          "base_uri": "https://localhost:8080/"
        },
        "id": "wbI7UfCbsFPA",
        "outputId": "adc7c6e2-3f74-4f6d-d0bf-5aaeb48b0081",
        "pycharm": {
          "is_executing": true
        }
      },
      "outputs": [
        {
          "name": "stdout",
          "output_type": "stream",
          "text": [
            "[==================================================] 100.0% 66.0/66.0MB downloaded\n"
          ]
        }
      ],
      "source": [
        "import gensim.downloader\n",
        "model = gensim.downloader.load('glove-wiki-gigaword-50')"
      ]
    },
    {
      "cell_type": "code",
      "execution_count": null,
      "metadata": {
        "id": "8TaXuV5esIz8"
      },
      "outputs": [],
      "source": [
        "# Select a word vector and see its shape"
      ]
    },
    {
      "cell_type": "code",
      "execution_count": null,
      "metadata": {
        "colab": {
          "base_uri": "https://localhost:8080/"
        },
        "id": "kpPz1JSFsgN6",
        "outputId": "24b657b5-111e-4f0f-d547-93f96bbe779a",
        "pycharm": {
          "is_executing": true
        }
      },
      "outputs": [
        {
          "name": "stdout",
          "output_type": "stream",
          "text": [
            "(50,)\n",
            "[-0.094386  0.43007  -0.17224  -0.45529   1.6447    0.40335  -0.37263\n",
            "  0.25071  -0.10588   0.10778  -0.10848   0.15181  -0.65396   0.55054\n",
            "  0.59591  -0.46278   0.11847   0.64448  -0.70948   0.23947  -0.82905\n",
            "  1.272     0.033021  0.2935    0.3911   -2.8094   -0.70745   0.4106\n",
            "  0.3894   -0.2913    2.6124   -0.34576  -0.16832   0.25154   0.31216\n",
            "  0.31639   0.12539  -0.012646  0.22297  -0.56585  -0.086264  0.62549\n",
            " -0.0576    0.29375   0.66005  -0.53115  -0.48233  -0.97925   0.53135\n",
            " -0.11725 ]\n"
          ]
        }
      ],
      "source": [
        "word_vector = model['man']\n",
        "print(word_vector.shape)\n",
        "print(word_vector)"
      ]
    },
    {
      "cell_type": "code",
      "execution_count": null,
      "metadata": {
        "colab": {
          "base_uri": "https://localhost:8080/"
        },
        "id": "n4GxLlDuN1zv",
        "outputId": "26db23d2-b772-4595-e0b0-4b9197e27219"
      },
      "outputs": [
        {
          "name": "stdout",
          "output_type": "stream",
          "text": [
            "[-0.95897    0.86149   -0.53064   -0.19908    0.42945    0.93177\n",
            "  0.067319  -0.21413    0.39488   -0.53561    0.42881   -1.3334\n",
            " -0.038192  -0.15667    0.94351   -0.21873   -0.15586    0.084439\n",
            " -0.058604  -0.55145   -0.53281    1.2434     0.63441    0.79234\n",
            "  0.0097936 -1.7124    -0.77291   -1.0024    -0.69472   -0.50487\n",
            "  3.0517     1.4981    -0.32957   -0.53871   -0.21201   -0.14259\n",
            " -0.02706    0.5858    -0.56642   -0.55984   -0.60905   -0.57062\n",
            "  1.3338     0.67097    1.0643    -0.4181    -0.44273   -1.0158\n",
            " -0.35795   -0.31111  ]\n"
          ]
        }
      ],
      "source": [
        "print(model['women'])"
      ]
    },
    {
      "cell_type": "code",
      "execution_count": null,
      "metadata": {
        "id": "V02j4t5vsm3k"
      },
      "outputs": [],
      "source": [
        "pairs = [\n",
        "         ('car', 'van'),\n",
        "         ('car', 'truck'),\n",
        "         ('car', 'bicycle'),\n",
        "         ('car', 'vehicle')\n",
        "]"
      ]
    },
    {
      "cell_type": "code",
      "execution_count": null,
      "metadata": {
        "id": "NU3DrNmQlpas"
      },
      "outputs": [],
      "source": [
        "# Find the similarity between pairs"
      ]
    },
    {
      "cell_type": "code",
      "execution_count": null,
      "metadata": {
        "colab": {
          "base_uri": "https://localhost:8080/"
        },
        "id": "eC8eHHqPlwjf",
        "outputId": "08c7e8f2-8d98-4e29-c4d5-bdfae1e4474b",
        "pycharm": {
          "is_executing": true
        }
      },
      "outputs": [
        {
          "name": "stdout",
          "output_type": "stream",
          "text": [
            "car:van -> 0.4927815794944763\n",
            "car:truck -> 0.9208585619926453\n",
            "car:bicycle -> 0.7560276389122009\n",
            "car:vehicle -> 0.8833684325218201\n"
          ]
        }
      ],
      "source": [
        "for v1, v2 in pairs:\n",
        "  print(f\"{v1}:{v2} -> {model.similarity(v1, v2)}\")"
      ]
    },
    {
      "cell_type": "code",
      "execution_count": null,
      "metadata": {
        "id": "4UTsgZXqlw-9"
      },
      "outputs": [],
      "source": [
        "# Find the top5 similar words to 'code'"
      ]
    },
    {
      "cell_type": "code",
      "execution_count": null,
      "metadata": {
        "colab": {
          "base_uri": "https://localhost:8080/"
        },
        "id": "RoVNTzbQTffQ",
        "outputId": "bc4d4fa0-8d97-451c-a3a0-78aa0200a459",
        "pycharm": {
          "is_executing": true
        }
      },
      "outputs": [
        {
          "name": "stdout",
          "output_type": "stream",
          "text": [
            "('codes', 0.909034788608551)\n",
            "('defines', 0.7590715289115906)\n",
            "('applies', 0.7557394504547119)\n",
            "('system', 0.7534014582633972)\n",
            "('standard', 0.7385658621788025)\n"
          ]
        }
      ],
      "source": [
        "for ele in model.most_similar('code', topn=5):\n",
        "  print(ele)"
      ]
    },
    {
      "cell_type": "code",
      "execution_count": null,
      "metadata": {
        "id": "6OyubNOET-y5"
      },
      "outputs": [],
      "source": [
        "def analogy(x1, x2, y1):\n",
        "  result = model.most_similar(positive=[x2, y1], negative=[x1])\n",
        "  return result[0][0]"
      ]
    },
    {
      "cell_type": "code",
      "execution_count": null,
      "metadata": {
        "colab": {
          "base_uri": "https://localhost:8080/",
          "height": 35
        },
        "id": "69-Z5vw0cLsF",
        "outputId": "c13315cf-550d-4e5c-f840-d60bbdff85c2",
        "pycharm": {
          "is_executing": true
        }
      },
      "outputs": [
        {
          "data": {
            "application/vnd.google.colaboratory.intrinsic+json": {
              "type": "string"
            },
            "text/plain": [
              "'queen'"
            ]
          },
          "execution_count": 10,
          "metadata": {},
          "output_type": "execute_result"
        }
      ],
      "source": [
        "analogy('man', 'king', 'woman')"
      ]
    },
    {
      "cell_type": "code",
      "execution_count": null,
      "metadata": {
        "colab": {
          "base_uri": "https://localhost:8080/",
          "height": 35
        },
        "id": "CjUL0qlkcOhu",
        "outputId": "2cfb120a-bf08-4ff0-b91d-18479113c47a",
        "pycharm": {
          "is_executing": true
        }
      },
      "outputs": [
        {
          "data": {
            "application/vnd.google.colaboratory.intrinsic+json": {
              "type": "string"
            },
            "text/plain": [
              "'her'"
            ]
          },
          "execution_count": 11,
          "metadata": {},
          "output_type": "execute_result"
        }
      ],
      "source": [
        "analogy('man', 'his', 'woman')"
      ]
    },
    {
      "cell_type": "code",
      "execution_count": null,
      "metadata": {
        "colab": {
          "base_uri": "https://localhost:8080/",
          "height": 35
        },
        "id": "KBtTX1NMcOxu",
        "outputId": "0214cd11-8ebe-4d90-eab1-612343358a6c",
        "pycharm": {
          "is_executing": true
        }
      },
      "outputs": [
        {
          "data": {
            "application/vnd.google.colaboratory.intrinsic+json": {
              "type": "string"
            },
            "text/plain": [
              "'largest'"
            ]
          },
          "execution_count": 12,
          "metadata": {},
          "output_type": "execute_result"
        }
      ],
      "source": [
        "analogy('tall', 'tallest', 'small')"
      ]
    },
    {
      "cell_type": "code",
      "execution_count": null,
      "metadata": {
        "id": "XSIB0BG1dRyH"
      },
      "outputs": [],
      "source": [
        "import numpy as np\n",
        "from sklearn.decomposition import PCA\n",
        "import matplotlib.pyplot as plt"
      ]
    },
    {
      "cell_type": "code",
      "execution_count": null,
      "metadata": {
        "id": "Ox87_4B9gOEp"
      },
      "outputs": [],
      "source": [
        "def display_pca_scatterplot(model, words, sample=0):\n",
        "  word_vectors = np.array([model[word] for word in words])\n",
        "  two_dim = PCA().fit_transform(word_vectors)[:, :2]\n",
        "\n",
        "  plt.figure(figsize=(6, 6))\n",
        "  plt.scatter(two_dim[:, 0], two_dim[:, 1], edgecolors='k', c='r')\n",
        "\n",
        "  for word, (x, y) in zip(words, two_dim):\n",
        "    plt.text(x+0.05, y+0.05, word)"
      ]
    },
    {
      "cell_type": "code",
      "execution_count": null,
      "metadata": {
        "colab": {
          "base_uri": "https://localhost:8080/",
          "height": 522
        },
        "id": "4J0m3WX6gOWS",
        "outputId": "f483090b-fbac-4d7a-ae4b-e595963500f6",
        "pycharm": {
          "is_executing": true
        }
      },
      "outputs": [
        {
          "data": {
            "image/png": "[encoded data removed]",
            "text/plain": [
              "<Figure size 600x600 with 1 Axes>"
            ]
          },
          "metadata": {},
          "output_type": "display_data"
        }
      ],
      "source": [
        "display_pca_scatterplot(model,\n",
        "                        ['coffee', 'tea',\n",
        "                         'happy', 'sad',\n",
        "                         'car', 'van',\n",
        "                         'basketball', 'baseball'])"
      ]
    },
    {
      "cell_type": "code",
      "execution_count": null,
      "metadata": {
        "id": "L21XcYEBgOl1"
      },
      "outputs": [],
      "source": []
    }
  ],
  "metadata": {
    "colab": {
      "provenance": []
    },
    "kernelspec": {
      "display_name": "Python 3",
      "language": "python",
      "name": "python3"
    },
    "language_info": {
      "codemirror_mode": {
        "name": "ipython",
        "version": 3
      },
      "file_extension": ".py",
      "mimetype": "text/x-python",
      "name": "python",
      "nbconvert_exporter": "python",
      "pygments_lexer": "ipython3",
      "version": "3.8.5"
    }
  },
  "nbformat": 4,
  "nbformat_minor": 0
}
